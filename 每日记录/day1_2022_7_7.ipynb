{
 "cells": [
  {
   "cell_type": "markdown",
   "metadata": {},
   "source": [
    "# 今天了解《机器学习——软件工程方法》的实验数据准备\n",
    "* 这本书主要使用pipenv结合docker的方式，进行虚拟环境和管理，为方便使用，我们使用conda\n",
    "```\n",
    "    conda activate ml\n",
    "```"
   ]
  },
  {
   "cell_type": "code",
   "execution_count": null,
   "metadata": {},
   "outputs": [],
   "source": [
    "import numpy as np\n",
    "from scipy import stats\n",
    "import matplotlib.pyplot as plt\n",
    "\n",
    "# 正态分布"
   ]
  }
 ],
 "metadata": {
  "kernelspec": {
   "display_name": "Python 3.9.12 ('ml')",
   "language": "python",
   "name": "python3"
  },
  "language_info": {
   "name": "python",
   "version": "3.9.12"
  },
  "orig_nbformat": 4,
  "vscode": {
   "interpreter": {
    "hash": "410cfb128b220602c132648433934d3b64359fdd7c8871178a6549a7a895a5c9"
   }
  }
 },
 "nbformat": 4,
 "nbformat_minor": 2
}
